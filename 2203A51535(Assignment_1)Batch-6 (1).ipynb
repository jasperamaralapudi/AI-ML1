{
  "cells": [
    {
      "cell_type": "markdown",
      "metadata": {
        "id": "nXVP7pT_s3d3"
      },
      "source": [
        "Part-1 Implement Base Data structures using Numpy,pandas"
      ]
    },
    {
      "cell_type": "code",
      "execution_count": 1,
      "metadata": {
        "colab": {
          "base_uri": "https://localhost:8080/"
        },
        "id": "GyuUuXd7s51b",
        "outputId": "10609c6d-b186-4f42-d5ca-302dfccd8c81"
      },
      "outputs": [
        {
          "name": "stdout",
          "output_type": "stream",
          "text": [
            "The daistolic blood pressure is display as [120, 85, 93, 167, 165, 132]\n",
            "The sistolic blood pressure is display as [68, 72, 71, 83, 67]\n"
          ]
        }
      ],
      "source": [
        "#1.Creation of list using Numpy\n",
        "import numpy as np\n",
        "patientbloodpressurediastolic=[120,85,93,167,165,132]\n",
        "patientbloodpressuresistolic=[68,72,71,83,67]\n",
        "print(\"The daistolic blood pressure is display as\",patientbloodpressurediastolic)\n",
        "print(\"The sistolic blood pressure is display as\",patientbloodpressuresistolic)"
      ]
    },
    {
      "cell_type": "code",
      "execution_count": 2,
      "metadata": {
        "colab": {
          "base_uri": "https://localhost:8080/"
        },
        "id": "GVRCSdzDtGfO",
        "outputId": "0ead6c5d-e70a-4963-d8fc-72e0b168a6c7"
      },
      "outputs": [
        {
          "name": "stdout",
          "output_type": "stream",
          "text": [
            "the IoT based Temperature Sensor sensitivity are as [98.7 96.4 98.7 78.4 88.7]\n",
            "The resolution of the IoT sensor are [0.001 0.01  0.98  0.998 0.234]\n"
          ]
        }
      ],
      "source": [
        "#Creation of Arrays using Numpy\n",
        "import numpy as geek\n",
        "Sensitivity=[98.7,96.4,98.7,78.4,88.7]\n",
        "IoTtempsensor=geek.array(Sensitivity)\n",
        "print('the IoT based Temperature Sensor sensitivity are as',IoTtempsensor)\n",
        "Resolution=geek.array([0.001,0.01,0.98,0.998,0.234])\n",
        "print('The resolution of the IoT sensor are',Resolution)"
      ]
    },
    {
      "cell_type": "code",
      "execution_count": 3,
      "metadata": {
        "colab": {
          "base_uri": "https://localhost:8080/"
        },
        "id": "sqFfDUQxtZej",
        "outputId": "a6d970b2-0d68-4aa8-a408-b9bce10dd58d"
      },
      "outputs": [
        {
          "name": "stdout",
          "output_type": "stream",
          "text": [
            "<class 'list'>\n",
            "<class 'numpy.ndarray'>\n"
          ]
        }
      ],
      "source": [
        "#Identification of type of list and array using Numpy\n",
        "import numpy as geek\n",
        "StudentID=[220351675,220351676,220341747,220341423]\n",
        "print(type(StudentID))\n",
        "IPaddress=geek.array([172.26,172.25,168.23,193.72])\n",
        "print(type(IPaddress))"
      ]
    },
    {
      "cell_type": "code",
      "execution_count": 4,
      "metadata": {
        "colab": {
          "base_uri": "https://localhost:8080/"
        },
        "id": "ct5lGAeHtaWT",
        "outputId": "8faf8239-9f20-4546-e602-4f0dc48fd10f"
      },
      "outputs": [
        {
          "name": "stdout",
          "output_type": "stream",
          "text": [
            "product is as follows [4.0e+00 8.0e-02 8.5e-02 1.9e-03]\n",
            "product another is [4.0e+00 8.0e-02 8.5e-02 1.9e-03]\n",
            "The addition is [8.08 8.57 5.09 2.49 7.96]\n",
            "The division is [4.0e+00 8.0e+02 8.5e+04 1.9e+05]\n",
            "The moddivision is [0.e+00 1.e-02 1.e-03 1.e-04]\n",
            "The division is [ 3.      7.99   84.999  18.9999]\n"
          ]
        }
      ],
      "source": [
        "#Performanace of Mathematical Operation on the given Datasets Addition, Multiplication,Subtraction,Division,Floordivision.\n",
        "import numpy as np\n",
        "dataset1=np.array([4,8,85,19])\n",
        "dataset2=np.array([1,0.01,0.001,0.0001])\n",
        "product=np.multiply(dataset1,dataset2)\n",
        "product1=dataset1*dataset2\n",
        "print('product is as follows',product)\n",
        "print('product another is',product1)\n",
        "MUX1=np.array([5,4.5,3,1.2,2.05])\n",
        "MUX2=np.array([3.08,4.07,2.09,1.29,5.91])\n",
        "addition=np.add(MUX1,MUX2)\n",
        "print('The addition is',addition)\n",
        "division=np.divide(dataset1,dataset2)\n",
        "moddivision=np.mod(dataset1,dataset2)\n",
        "floordivision=np.floor_divide(dataset1,dataset2)\n",
        "subtraction=np.subtract(dataset1,dataset2)\n",
        "print('The division is',division)\n",
        "print('The moddivision is',moddivision)\n",
        "print('The division is',subtraction)\n"
      ]
    },
    {
      "cell_type": "code",
      "execution_count": 5,
      "metadata": {
        "colab": {
          "base_uri": "https://localhost:8080/"
        },
        "id": "iBfnncpNthUf",
        "outputId": "29d54023-3856-42de-9992-953c4e77888d"
      },
      "outputs": [
        {
          "name": "stdout",
          "output_type": "stream",
          "text": [
            "The addition is [8.08 8.57 5.09 2.49 7.96]\n"
          ]
        }
      ],
      "source": [
        "#To add the following datasets using numpy\n",
        "import numpy as np\n",
        "MUX1=np.array([5,4.5,3,1.2,2.05])\n",
        "MUX2=np.array([3.08,4.07,2.09,1.29,5.91])\n",
        "addition=np.add(MUX1,MUX2)\n",
        "print('The addition is',addition)"
      ]
    },
    {
      "cell_type": "code",
      "execution_count": 6,
      "metadata": {
        "colab": {
          "base_uri": "https://localhost:8080/"
        },
        "id": "LHjn-fqltljW",
        "outputId": "b4433041-fc7d-484f-a586-c3a90bd1bcb0"
      },
      "outputs": [
        {
          "name": "stdout",
          "output_type": "stream",
          "text": [
            "The sine of the patient age is [ 0.82682868  0.51397846 -0.82181784 -0.55878905 -0.55878905]\n",
            "The cosine of the patient age is [-0.56245385 -0.85780309  0.56975033 -0.82930983 -0.82930983]\n",
            "The tangent of the patient age is [-1.47003826 -0.59918    -1.44241747  0.6738001   0.6738001 ]\n",
            "The log1 of the patient age is [1.81291336 1.8920946  1.93951925 1.73239376 1.73239376]\n",
            "The LOG of the patient age is [6.02236781 6.28540222 6.4429435  5.7548875  5.7548875 ]\n",
            "The exp of the patient age is [1.69488924e+28 7.49841700e+33 6.07603023e+37 2.83075330e+23\n",
            " 2.83075330e+23]\n"
          ]
        }
      ],
      "source": [
        "#Implement trigonometric and log functions of a given data set\n",
        "import numpy as np\n",
        "patientage=np.array([65,78,87,54,54])\n",
        "sine=np.sin(patientage)\n",
        "cosine=np.cos(patientage)\n",
        "tangent=np.tan(patientage)\n",
        "log1=np.log10(patientage)\n",
        "LOG=np.log2(patientage)\n",
        "exp=np.exp(patientage)\n",
        "print('The sine of the patient age is',sine)\n",
        "print('The cosine of the patient age is',cosine)\n",
        "print('The tangent of the patient age is',tangent)\n",
        "print('The log1 of the patient age is',log1)\n",
        "print('The LOG of the patient age is',LOG)\n",
        "print('The exp of the patient age is',exp)"
      ]
    },
    {
      "cell_type": "markdown",
      "metadata": {
        "id": "e7p1k0p9tqce"
      },
      "source": [
        "Part-2 visualize the datasets or data using Matplot functions graphs"
      ]
    },
    {
      "cell_type": "code",
      "execution_count": 7,
      "metadata": {
        "colab": {
          "base_uri": "https://localhost:8080/",
          "height": 885
        },
        "id": "n3i0Jr5htuaM",
        "outputId": "c27eb9d4-635b-4339-bb30-308d7260a669"
      },
      "outputs": [
        {
          "data": {
            "image/png": "[encoded data removed]",
            "text/plain": [
              "<Figure size 640x480 with 1 Axes>"
            ]
          },
          "metadata": {},
          "output_type": "display_data"
        },
        {
          "data": {
            "image/png": "[encoded data removed]",
            "text/plain": [
              "<Figure size 640x480 with 1 Axes>"
            ]
          },
          "metadata": {},
          "output_type": "display_data"
        }
      ],
      "source": [
        "#Visualization of Data using matplotlib,pyplot pcakages\n",
        "import matplotlib.pyplot as plt\n",
        "import numpy as np\n",
        "Voltage=np.array([1,2,3,4,5,6,7,8,9,10])\n",
        "Current=np.array([5,10,15,20,25,30,35,40,45,50])\n",
        "plt.plot(Voltage,Current)\n",
        "plt.show()\n",
        "plt.scatter(Voltage,Current)\n",
        "plt.title('The relationship between vaoltage and current is')\n",
        "plt.xlabel('Voltage in volts')\n",
        "plt.ylabel('Current in nanoampere')\n",
        "plt.show()"
      ]
    },
    {
      "cell_type": "code",
      "execution_count": 8,
      "metadata": {
        "colab": {
          "base_uri": "https://localhost:8080/"
        },
        "id": "uiAQZUbpt0Tn",
        "outputId": "3b282eae-56f8-4096-a12c-3ae755098abe"
      },
      "outputs": [
        {
          "name": "stdout",
          "output_type": "stream",
          "text": [
            "The 2D array is  [[1 2 3 4]\n",
            " [5 6 7 8]]\n",
            "The 3D array is  [[[ 1  2  3  4]\n",
            "  [ 5  6  7  8]]\n",
            "\n",
            " [[ 9 10 11 12]\n",
            "  [13 14 15 16]]]\n",
            "2\n",
            "3\n"
          ]
        }
      ],
      "source": [
        "#Demostration of a 2D,3D array and determine the dimensions of the\n",
        "import numpy as np\n",
        "array1=np.array([[1,2,3,4],[5,6,7,8]])\n",
        "array2=np.array([[[1,2,3,4],[5,6,7,8]],[[9,10,11,12],[13,14,15,16]]])\n",
        "print('The 2D array is ',array1)\n",
        "print('The 3D array is ',array2)\n",
        "print(array1.ndim)\n",
        "print(array2.ndim)"
      ]
    },
    {
      "cell_type": "code",
      "execution_count": 9,
      "metadata": {
        "colab": {
          "base_uri": "https://localhost:8080/",
          "height": 463
        },
        "id": "kn4NcWWVt_Ec",
        "outputId": "891c65dd-d528-4340-93fe-c3a3c21a1a34"
      },
      "outputs": [
        {
          "data": {
            "image/png": "[encoded data removed]",
            "text/plain": [
              "<Figure size 1200x400 with 1 Axes>"
            ]
          },
          "metadata": {},
          "output_type": "display_data"
        }
      ],
      "source": [
        "people =['adam','bency','charlie','danny','emma','frank']\n",
        "age = [40,36,16,15,35,45]\n",
        "weight= [70,80,60,65,55,75]\n",
        "height= [160,150,100,120,155,188]\n",
        "\n",
        "import matplotlib.pyplot as plt\n",
        "\n",
        "plt.figure(figsize =(12,4))\n",
        "plt.title(\"people weight in kgs\" , fontsize=16 , fontstyle='italic')\n",
        "\n",
        "plt.bar(x=people,height=weight, width=0.6, color='orange', edgecolor='k', alpha=0.6)\n",
        "\n",
        "\n",
        "plt.xlabel(\"people\", fontsize=15)\n",
        "plt.xticks(fontsize=14, rotation=30)\n",
        "plt.yticks(fontsize=14)\n",
        "plt.ylabel(\"weight (in kgs)\", fontsize=15)\n",
        "plt.show()\n"
      ]
    },
    {
      "cell_type": "code",
      "execution_count": 10,
      "metadata": {
        "colab": {
          "base_uri": "https://localhost:8080/",
          "height": 504
        },
        "id": "T3qdrre5uEQF",
        "outputId": "c12cda0a-a0db-47cc-d0a4-93d07837bc52"
      },
      "outputs": [
        {
          "data": {
            "image/png": "[encoded data removed]",
            "text/plain": [
              "<Figure size 700x500 with 1 Axes>"
            ]
          },
          "metadata": {},
          "output_type": "display_data"
        }
      ],
      "source": [
        "import numpy as np\n",
        "plt.figure(figsize=(7,5))\n",
        "\n",
        "plt.hist(weight,color='red', edgecolor='k', alpha=0.75, bins=5)\n",
        "\n",
        "plt.title(\"histogram\", fontsize=18)\n",
        "plt.xlabel(\"weights\",fontsize=15)\n",
        "plt.xticks(fontsize=15)\n",
        "plt.yticks(fontsize=15)\n",
        "plt.show()"
      ]
    },
    {
      "cell_type": "markdown",
      "metadata": {
        "id": "-EnW8cd8uKZT"
      },
      "source": [
        "Part-3 Access Data From  Various data sources using button function of Numpy and pandas"
      ]
    },
    {
      "cell_type": "code",
      "execution_count": 13,
      "metadata": {
        "colab": {
          "base_uri": "https://localhost:8080/",
          "height": 53
        },
        "id": "xfzr6CdXuPax",
        "outputId": "4801a01a-e25e-477d-d8d9-8ff21cb361bb"
      },
      "outputs": [
        {
          "data": {
            "text/html": [
              "\n",
              "  <div id=\"df-5f011fa3-23c5-4fc4-a5a3-01a1a447a999\" class=\"colab-df-container\">\n",
              "    <div>\n",
              "<style scoped>\n",
              "    .dataframe tbody tr th:only-of-type {\n",
              "        vertical-align: middle;\n",
              "    }\n",
              "\n",
              "    .dataframe tbody tr th {\n",
              "        vertical-align: top;\n",
              "    }\n",
              "\n",
              "    .dataframe thead th {\n",
              "        text-align: right;\n",
              "    }\n",
              "</style>\n",
              "<table border=\"1\" class=\"dataframe\">\n",
              "  <thead>\n",
              "    <tr style=\"text-align: right;\">\n",
              "      <th></th>\n",
              "      <th>hello world</th>\n",
              "    </tr>\n",
              "  </thead>\n",
              "  <tbody>\n",
              "  </tbody>\n",
              "</table>\n",
              "</div>\n",
              "    <div class=\"colab-df-buttons\">\n",
              "\n",
              "  <div class=\"colab-df-container\">\n",
              "    <button class=\"colab-df-convert\" onclick=\"convertToInteractive('df-5f011fa3-23c5-4fc4-a5a3-01a1a447a999')\"\n",
              "            title=\"Convert this dataframe to an interactive table.\"\n",
              "            style=\"display:none;\">\n",
              "\n",
              "  <svg xmlns=\"http://www.w3.org/2000/svg\" height=\"24px\" viewBox=\"0 -960 960 960\">\n",
              "    <path d=\"M120-120v-720h720v720H120Zm60-500h600v-160H180v160Zm220 220h160v-160H400v160Zm0 220h160v-160H400v160ZM180-400h160v-160H180v160Zm440 0h160v-160H620v160ZM180-180h160v-160H180v160Zm440 0h160v-160H620v160Z\"/>\n",
              "  </svg>\n",
              "    </button>\n",
              "\n",
              "  <style>\n",
              "    .colab-df-container {\n",
              "      display:flex;\n",
              "      gap: 12px;\n",
              "    }\n",
              "\n",
              "    .colab-df-convert {\n",
              "      background-color: #E8F0FE;\n",
              "      border: none;\n",
              "      border-radius: 50%;\n",
              "      cursor: pointer;\n",
              "      display: none;\n",
              "      fill: #1967D2;\n",
              "      height: 32px;\n",
              "      padding: 0 0 0 0;\n",
              "      width: 32px;\n",
              "    }\n",
              "\n",
              "    .colab-df-convert:hover {\n",
              "      background-color: #E2EBFA;\n",
              "      box-shadow: 0px 1px 2px rgba(60, 64, 67, 0.3), 0px 1px 3px 1px rgba(60, 64, 67, 0.15);\n",
              "      fill: #174EA6;\n",
              "    }\n",
              "\n",
              "    .colab-df-buttons div {\n",
              "      margin-bottom: 4px;\n",
              "    }\n",
              "\n",
              "    [theme=dark] .colab-df-convert {\n",
              "      background-color: #3B4455;\n",
              "      fill: #D2E3FC;\n",
              "    }\n",
              "\n",
              "    [theme=dark] .colab-df-convert:hover {\n",
              "      background-color: #434B5C;\n",
              "      box-shadow: 0px 1px 3px 1px rgba(0, 0, 0, 0.15);\n",
              "      filter: drop-shadow(0px 1px 2px rgba(0, 0, 0, 0.3));\n",
              "      fill: #FFFFFF;\n",
              "    }\n",
              "  </style>\n",
              "\n",
              "    <script>\n",
              "      const buttonEl =\n",
              "        document.querySelector('#df-5f011fa3-23c5-4fc4-a5a3-01a1a447a999 button.colab-df-convert');\n",
              "      buttonEl.style.display =\n",
              "        google.colab.kernel.accessAllowed ? 'block' : 'none';\n",
              "\n",
              "      async function convertToInteractive(key) {\n",
              "        const element = document.querySelector('#df-5f011fa3-23c5-4fc4-a5a3-01a1a447a999');\n",
              "        const dataTable =\n",
              "          await google.colab.kernel.invokeFunction('convertToInteractive',\n",
              "                                                    [key], {});\n",
              "        if (!dataTable) return;\n",
              "\n",
              "        const docLinkHtml = 'Like what you see? Visit the ' +\n",
              "          '<a target=\"_blank\" href=https://colab.research.google.com/notebooks/data_table.ipynb>data table notebook</a>'\n",
              "          + ' to learn more about interactive tables.';\n",
              "        element.innerHTML = '';\n",
              "        dataTable['output_type'] = 'display_data';\n",
              "        await google.colab.output.renderOutput(dataTable, element);\n",
              "        const docLink = document.createElement('div');\n",
              "        docLink.innerHTML = docLinkHtml;\n",
              "        element.appendChild(docLink);\n",
              "      }\n",
              "    </script>\n",
              "  </div>\n",
              "\n",
              "    </div>\n",
              "  </div>\n"
            ],
            "text/plain": [
              "Empty DataFrame\n",
              "Columns: [hello world]\n",
              "Index: []"
            ]
          },
          "execution_count": 13,
          "metadata": {},
          "output_type": "execute_result"
        }
      ],
      "source": [
        "import pandas as pd\n",
        "file1=pd.read_excel(\"/content/file.xlsx\")\n",
        "file1"
      ]
    },
    {
      "cell_type": "code",
      "execution_count": 14,
      "metadata": {
        "colab": {
          "base_uri": "https://localhost:8080/",
          "height": 53
        },
        "id": "2J1G4XV0vo_N",
        "outputId": "ac07acb5-172b-4466-808f-52cbac844f57"
      },
      "outputs": [
        {
          "data": {
            "text/html": [
              "\n",
              "  <div id=\"df-1f80f2aa-033b-4a89-8493-ec3f89337856\" class=\"colab-df-container\">\n",
              "    <div>\n",
              "<style scoped>\n",
              "    .dataframe tbody tr th:only-of-type {\n",
              "        vertical-align: middle;\n",
              "    }\n",
              "\n",
              "    .dataframe tbody tr th {\n",
              "        vertical-align: top;\n",
              "    }\n",
              "\n",
              "    .dataframe thead th {\n",
              "        text-align: right;\n",
              "    }\n",
              "</style>\n",
              "<table border=\"1\" class=\"dataframe\">\n",
              "  <thead>\n",
              "    <tr style=\"text-align: right;\">\n",
              "      <th></th>\n",
              "      <th>hello world!!</th>\n",
              "    </tr>\n",
              "  </thead>\n",
              "  <tbody>\n",
              "  </tbody>\n",
              "</table>\n",
              "</div>\n",
              "    <div class=\"colab-df-buttons\">\n",
              "\n",
              "  <div class=\"colab-df-container\">\n",
              "    <button class=\"colab-df-convert\" onclick=\"convertToInteractive('df-1f80f2aa-033b-4a89-8493-ec3f89337856')\"\n",
              "            title=\"Convert this dataframe to an interactive table.\"\n",
              "            style=\"display:none;\">\n",
              "\n",
              "  <svg xmlns=\"http://www.w3.org/2000/svg\" height=\"24px\" viewBox=\"0 -960 960 960\">\n",
              "    <path d=\"M120-120v-720h720v720H120Zm60-500h600v-160H180v160Zm220 220h160v-160H400v160Zm0 220h160v-160H400v160ZM180-400h160v-160H180v160Zm440 0h160v-160H620v160ZM180-180h160v-160H180v160Zm440 0h160v-160H620v160Z\"/>\n",
              "  </svg>\n",
              "    </button>\n",
              "\n",
              "  <style>\n",
              "    .colab-df-container {\n",
              "      display:flex;\n",
              "      gap: 12px;\n",
              "    }\n",
              "\n",
              "    .colab-df-convert {\n",
              "      background-color: #E8F0FE;\n",
              "      border: none;\n",
              "      border-radius: 50%;\n",
              "      cursor: pointer;\n",
              "      display: none;\n",
              "      fill: #1967D2;\n",
              "      height: 32px;\n",
              "      padding: 0 0 0 0;\n",
              "      width: 32px;\n",
              "    }\n",
              "\n",
              "    .colab-df-convert:hover {\n",
              "      background-color: #E2EBFA;\n",
              "      box-shadow: 0px 1px 2px rgba(60, 64, 67, 0.3), 0px 1px 3px 1px rgba(60, 64, 67, 0.15);\n",
              "      fill: #174EA6;\n",
              "    }\n",
              "\n",
              "    .colab-df-buttons div {\n",
              "      margin-bottom: 4px;\n",
              "    }\n",
              "\n",
              "    [theme=dark] .colab-df-convert {\n",
              "      background-color: #3B4455;\n",
              "      fill: #D2E3FC;\n",
              "    }\n",
              "\n",
              "    [theme=dark] .colab-df-convert:hover {\n",
              "      background-color: #434B5C;\n",
              "      box-shadow: 0px 1px 3px 1px rgba(0, 0, 0, 0.15);\n",
              "      filter: drop-shadow(0px 1px 2px rgba(0, 0, 0, 0.3));\n",
              "      fill: #FFFFFF;\n",
              "    }\n",
              "  </style>\n",
              "\n",
              "    <script>\n",
              "      const buttonEl =\n",
              "        document.querySelector('#df-1f80f2aa-033b-4a89-8493-ec3f89337856 button.colab-df-convert');\n",
              "      buttonEl.style.display =\n",
              "        google.colab.kernel.accessAllowed ? 'block' : 'none';\n",
              "\n",
              "      async function convertToInteractive(key) {\n",
              "        const element = document.querySelector('#df-1f80f2aa-033b-4a89-8493-ec3f89337856');\n",
              "        const dataTable =\n",
              "          await google.colab.kernel.invokeFunction('convertToInteractive',\n",
              "                                                    [key], {});\n",
              "        if (!dataTable) return;\n",
              "\n",
              "        const docLinkHtml = 'Like what you see? Visit the ' +\n",
              "          '<a target=\"_blank\" href=https://colab.research.google.com/notebooks/data_table.ipynb>data table notebook</a>'\n",
              "          + ' to learn more about interactive tables.';\n",
              "        element.innerHTML = '';\n",
              "        dataTable['output_type'] = 'display_data';\n",
              "        await google.colab.output.renderOutput(dataTable, element);\n",
              "        const docLink = document.createElement('div');\n",
              "        docLink.innerHTML = docLinkHtml;\n",
              "        element.appendChild(docLink);\n",
              "      }\n",
              "    </script>\n",
              "  </div>\n",
              "\n",
              "    </div>\n",
              "  </div>\n"
            ],
            "text/plain": [
              "Empty DataFrame\n",
              "Columns: [hello world!!]\n",
              "Index: []"
            ]
          },
          "execution_count": 14,
          "metadata": {},
          "output_type": "execute_result"
        }
      ],
      "source": [
        "import pandas as pd\n",
        "file2=pd.read_table(\"/content/file.txt\")\n",
        "file2"
      ]
    },
    {
      "cell_type": "code",
      "execution_count": 15,
      "metadata": {
        "colab": {
          "base_uri": "https://localhost:8080/",
          "height": 53
        },
        "id": "4j5A8FbSvrIk",
        "outputId": "e8229460-4c5d-4190-b1ee-24e6bdfe4232"
      },
      "outputs": [
        {
          "data": {
            "text/html": [
              "\n",
              "  <div id=\"df-daf9e11d-be00-4f18-9469-1c7231141793\" class=\"colab-df-container\">\n",
              "    <div>\n",
              "<style scoped>\n",
              "    .dataframe tbody tr th:only-of-type {\n",
              "        vertical-align: middle;\n",
              "    }\n",
              "\n",
              "    .dataframe tbody tr th {\n",
              "        vertical-align: top;\n",
              "    }\n",
              "\n",
              "    .dataframe thead th {\n",
              "        text-align: right;\n",
              "    }\n",
              "</style>\n",
              "<table border=\"1\" class=\"dataframe\">\n",
              "  <thead>\n",
              "    <tr style=\"text-align: right;\">\n",
              "      <th></th>\n",
              "      <th>hello world</th>\n",
              "    </tr>\n",
              "  </thead>\n",
              "  <tbody>\n",
              "  </tbody>\n",
              "</table>\n",
              "</div>\n",
              "    <div class=\"colab-df-buttons\">\n",
              "\n",
              "  <div class=\"colab-df-container\">\n",
              "    <button class=\"colab-df-convert\" onclick=\"convertToInteractive('df-daf9e11d-be00-4f18-9469-1c7231141793')\"\n",
              "            title=\"Convert this dataframe to an interactive table.\"\n",
              "            style=\"display:none;\">\n",
              "\n",
              "  <svg xmlns=\"http://www.w3.org/2000/svg\" height=\"24px\" viewBox=\"0 -960 960 960\">\n",
              "    <path d=\"M120-120v-720h720v720H120Zm60-500h600v-160H180v160Zm220 220h160v-160H400v160Zm0 220h160v-160H400v160ZM180-400h160v-160H180v160Zm440 0h160v-160H620v160ZM180-180h160v-160H180v160Zm440 0h160v-160H620v160Z\"/>\n",
              "  </svg>\n",
              "    </button>\n",
              "\n",
              "  <style>\n",
              "    .colab-df-container {\n",
              "      display:flex;\n",
              "      gap: 12px;\n",
              "    }\n",
              "\n",
              "    .colab-df-convert {\n",
              "      background-color: #E8F0FE;\n",
              "      border: none;\n",
              "      border-radius: 50%;\n",
              "      cursor: pointer;\n",
              "      display: none;\n",
              "      fill: #1967D2;\n",
              "      height: 32px;\n",
              "      padding: 0 0 0 0;\n",
              "      width: 32px;\n",
              "    }\n",
              "\n",
              "    .colab-df-convert:hover {\n",
              "      background-color: #E2EBFA;\n",
              "      box-shadow: 0px 1px 2px rgba(60, 64, 67, 0.3), 0px 1px 3px 1px rgba(60, 64, 67, 0.15);\n",
              "      fill: #174EA6;\n",
              "    }\n",
              "\n",
              "    .colab-df-buttons div {\n",
              "      margin-bottom: 4px;\n",
              "    }\n",
              "\n",
              "    [theme=dark] .colab-df-convert {\n",
              "      background-color: #3B4455;\n",
              "      fill: #D2E3FC;\n",
              "    }\n",
              "\n",
              "    [theme=dark] .colab-df-convert:hover {\n",
              "      background-color: #434B5C;\n",
              "      box-shadow: 0px 1px 3px 1px rgba(0, 0, 0, 0.15);\n",
              "      filter: drop-shadow(0px 1px 2px rgba(0, 0, 0, 0.3));\n",
              "      fill: #FFFFFF;\n",
              "    }\n",
              "  </style>\n",
              "\n",
              "    <script>\n",
              "      const buttonEl =\n",
              "        document.querySelector('#df-daf9e11d-be00-4f18-9469-1c7231141793 button.colab-df-convert');\n",
              "      buttonEl.style.display =\n",
              "        google.colab.kernel.accessAllowed ? 'block' : 'none';\n",
              "\n",
              "      async function convertToInteractive(key) {\n",
              "        const element = document.querySelector('#df-daf9e11d-be00-4f18-9469-1c7231141793');\n",
              "        const dataTable =\n",
              "          await google.colab.kernel.invokeFunction('convertToInteractive',\n",
              "                                                    [key], {});\n",
              "        if (!dataTable) return;\n",
              "\n",
              "        const docLinkHtml = 'Like what you see? Visit the ' +\n",
              "          '<a target=\"_blank\" href=https://colab.research.google.com/notebooks/data_table.ipynb>data table notebook</a>'\n",
              "          + ' to learn more about interactive tables.';\n",
              "        element.innerHTML = '';\n",
              "        dataTable['output_type'] = 'display_data';\n",
              "        await google.colab.output.renderOutput(dataTable, element);\n",
              "        const docLink = document.createElement('div');\n",
              "        docLink.innerHTML = docLinkHtml;\n",
              "        element.appendChild(docLink);\n",
              "      }\n",
              "    </script>\n",
              "  </div>\n",
              "\n",
              "    </div>\n",
              "  </div>\n"
            ],
            "text/plain": [
              "Empty DataFrame\n",
              "Columns: [hello world]\n",
              "Index: []"
            ]
          },
          "execution_count": 15,
          "metadata": {},
          "output_type": "execute_result"
        }
      ],
      "source": [
        "import pandas as pd\n",
        "file3=pd.read_csv(\"/content/file.csv\")\n",
        "file3"
      ]
    }
  ],
  "metadata": {
    "colab": {
      "provenance": []
    },
    "kernelspec": {
      "display_name": "Python 3",
      "name": "python3"
    },
    "language_info": {
      "name": "python"
    }
  },
  "nbformat": 4,
  "nbformat_minor": 0
}
